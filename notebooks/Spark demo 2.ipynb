{
 "cells": [
  {
   "cell_type": "code",
   "execution_count": 1,
   "metadata": {
    "scrolled": true
   },
   "outputs": [
    {
     "name": "stdout",
     "output_type": "stream",
     "text": [
      "Loading spark-stubs\n",
      "Getting spark JARs\n",
      "Creating SparkSession\n"
     ]
    },
    {
     "name": "stderr",
     "output_type": "stream",
     "text": [
      "Using Spark's default log4j profile: org/apache/spark/log4j-defaults.properties\n"
     ]
    },
    {
     "data": {
      "text/html": [
       "<a href=\"http://macbook-pro:4040\">Spark UI</a>"
      ]
     },
     "metadata": {},
     "output_type": "display_data"
    },
    {
     "data": {
      "text/plain": [
       "\u001b[32mimport \u001b[39m\u001b[36m$ivy.$                                  \n",
       "\n",
       "\u001b[39m\n",
       "\u001b[32mimport \u001b[39m\u001b[36morg.apache.log4j.{Level, Logger}\n",
       "\u001b[39m\n",
       "\u001b[32mimport \u001b[39m\u001b[36morg.apache.spark.sql._\n",
       "\n",
       "\u001b[39m\n",
       "\u001b[36mspark\u001b[39m: \u001b[32mSparkSession\u001b[39m = org.apache.spark.sql.SparkSession@14181a8f\n",
       "defined \u001b[32mfunction\u001b[39m \u001b[36msc\u001b[39m"
      ]
     },
     "execution_count": 1,
     "metadata": {},
     "output_type": "execute_result"
    }
   ],
   "source": [
    "import $ivy.`org.apache.spark::spark-sql:2.4.0`\n",
    "\n",
    "import org.apache.log4j.{Level, Logger}\n",
    "Logger.getLogger(\"org\").setLevel(Level.OFF)\n",
    "\n",
    "import org.apache.spark.sql._\n",
    "\n",
    "val spark = {\n",
    "  NotebookSparkSession.builder()\n",
    "    .config(\"spark.sql.autoBroadcastJoinThreshold\", 0)\n",
    "    .master(\"local[*]\")\n",
    "    .getOrCreate()\n",
    "}\n",
    "\n",
    "def sc = spark.sparkContext // Разница между def, val, lazy val"
   ]
  },
  {
   "cell_type": "code",
   "execution_count": 3,
   "metadata": {},
   "outputs": [
    {
     "data": {
      "text/html": [
       "<div>\n",
       "  <span style=\"float: left;\">foreach at cmd2.sc:3</span>\n",
       "</div>\n"
      ]
     },
     "metadata": {},
     "output_type": "display_data"
    },
    {
     "data": {
      "text/html": [
       "<div class=\"progress\">\n",
       "  <div class=\"progress-bar\" role=\"progressbar\" style=\"background-color: blue; width: 100%; word-wrap: normal; white-space: nowrap; text-align: center; color: white\" aria-valuenow=\"100\" aria-valuemin=\"0\" aria-valuemax=\"100\">\n",
       "    12 / 12\n",
       "  </div>\n",
       "  <div class=\"progress-bar\" role=\"progressbar\" style=\"background-color: red; width: 0%\" aria-valuenow=\"0\" aria-valuemin=\"0\" aria-valuemax=\"100\"></div>\n",
       "</div>\n"
      ]
     },
     "metadata": {},
     "output_type": "display_data"
    },
    {
     "data": {
      "text/plain": [
       "\u001b[36maccum\u001b[39m: \u001b[32morg\u001b[39m.\u001b[32mapache\u001b[39m.\u001b[32mspark\u001b[39m.\u001b[32mutil\u001b[39m.\u001b[32mLongAccumulator\u001b[39m = LongAccumulator(id: 26, name: Some(My Accumulator), value: 10)\n",
       "\u001b[36mres2_2\u001b[39m: \u001b[32mjava\u001b[39m.\u001b[32mlang\u001b[39m.\u001b[32mLong\u001b[39m = \u001b[32m10L\u001b[39m"
      ]
     },
     "execution_count": 3,
     "metadata": {},
     "output_type": "execute_result"
    }
   ],
   "source": [
    "val accum = sc.longAccumulator(\"My Accumulator\")\n",
    "\n",
    "sc.parallelize(Array(1, 2, 3, 4)).foreach(x => accum.add(x))\n",
    "\n",
    "accum.value"
   ]
  },
  {
   "cell_type": "code",
   "execution_count": 11,
   "metadata": {
    "scrolled": true
   },
   "outputs": [
    {
     "data": {
      "text/html": [
       "<div>\n",
       "  <span style=\"float: left;\">csv at cmd10.sc:5</span>\n",
       "</div>\n"
      ]
     },
     "metadata": {},
     "output_type": "display_data"
    },
    {
     "data": {
      "text/html": [
       "<div class=\"progress\">\n",
       "  <div class=\"progress-bar\" role=\"progressbar\" style=\"background-color: blue; width: 100%; word-wrap: normal; white-space: nowrap; text-align: center; color: white\" aria-valuenow=\"100\" aria-valuemin=\"0\" aria-valuemax=\"100\">\n",
       "    1 / 1\n",
       "  </div>\n",
       "  <div class=\"progress-bar\" role=\"progressbar\" style=\"background-color: red; width: 0%\" aria-valuenow=\"0\" aria-valuemin=\"0\" aria-valuemax=\"100\"></div>\n",
       "</div>\n"
      ]
     },
     "metadata": {},
     "output_type": "display_data"
    },
    {
     "data": {
      "text/html": [
       "<div>\n",
       "  <span style=\"float: left;\">csv at cmd10.sc:5</span>\n",
       "</div>\n"
      ]
     },
     "metadata": {},
     "output_type": "display_data"
    },
    {
     "data": {
      "text/html": [
       "<div class=\"progress\">\n",
       "  <div class=\"progress-bar\" role=\"progressbar\" style=\"background-color: blue; width: 100%; word-wrap: normal; white-space: nowrap; text-align: center; color: white\" aria-valuenow=\"100\" aria-valuemin=\"0\" aria-valuemax=\"100\">\n",
       "    12 / 12\n",
       "  </div>\n",
       "  <div class=\"progress-bar\" role=\"progressbar\" style=\"background-color: red; width: 0%\" aria-valuenow=\"0\" aria-valuemin=\"0\" aria-valuemax=\"100\"></div>\n",
       "</div>\n"
      ]
     },
     "metadata": {},
     "output_type": "display_data"
    },
    {
     "data": {
      "text/html": [
       "<div>\n",
       "  <span style=\"float: left;\">show at cmd10.sc:7</span>\n",
       "</div>\n"
      ]
     },
     "metadata": {},
     "output_type": "display_data"
    },
    {
     "data": {
      "text/html": [
       "<div class=\"progress\">\n",
       "  <div class=\"progress-bar\" role=\"progressbar\" style=\"background-color: blue; width: 100%; word-wrap: normal; white-space: nowrap; text-align: center; color: white\" aria-valuenow=\"100\" aria-valuemin=\"0\" aria-valuemax=\"100\">\n",
       "    1 / 1\n",
       "  </div>\n",
       "  <div class=\"progress-bar\" role=\"progressbar\" style=\"background-color: red; width: 0%\" aria-valuenow=\"0\" aria-valuemin=\"0\" aria-valuemax=\"100\"></div>\n",
       "</div>\n"
      ]
     },
     "metadata": {},
     "output_type": "display_data"
    },
    {
     "name": "stdout",
     "output_type": "stream",
     "text": [
      "+---------------+------------+--------------------+--------------------+--------+--------------+--------+-------------------+----+-----+-----------+----+----------+-----------------+-----------+------------+--------------------+\n",
      "|INCIDENT_NUMBER|OFFENSE_CODE|  OFFENSE_CODE_GROUP| OFFENSE_DESCRIPTION|DISTRICT|REPORTING_AREA|SHOOTING|   OCCURRED_ON_DATE|YEAR|MONTH|DAY_OF_WEEK|HOUR|  UCR_PART|           STREET|        Lat|        Long|            Location|\n",
      "+---------------+------------+--------------------+--------------------+--------+--------------+--------+-------------------+----+-----+-----------+----+----------+-----------------+-----------+------------+--------------------+\n",
      "|     I182070945|         619|             Larceny|  LARCENY ALL OTHERS|     D14|           808|    null|2018-09-02 13:00:00|2018|    9|     Sunday|  13|  Part One|       LINCOLN ST|42.35779134|-71.13937053|(42.35779134, -71...|\n",
      "|     I182070943|        1402|           Vandalism|           VANDALISM|     C11|           347|    null|2018-08-21 00:00:00|2018|    8|    Tuesday|   0|  Part Two|         HECLA ST|42.30682138|-71.06030035|(42.30682138, -71...|\n",
      "|     I182070941|        3410|               Towed| TOWED MOTOR VEHICLE|      D4|           151|    null|2018-09-03 19:27:00|2018|    9|     Monday|  19|Part Three|      CAZENOVE ST|42.34658879|-71.07242943|(42.34658879, -71...|\n",
      "|     I182070940|        3114|Investigate Property|INVESTIGATE PROPERTY|      D4|           272|    null|2018-09-03 21:16:00|2018|    9|     Monday|  21|Part Three|       NEWCOMB ST|42.33418175|-71.07866441|(42.33418175, -71...|\n",
      "|     I182070938|        3114|Investigate Property|INVESTIGATE PROPERTY|      B3|           421|    null|2018-09-03 21:05:00|2018|    9|     Monday|  21|Part Three|         DELHI ST|42.27536542|-71.09036101|(42.27536542, -71...|\n",
      "|     I182070936|        3820|Motor Vehicle Acc...|M/V ACCIDENT INVO...|     C11|           398|    null|2018-09-03 21:09:00|2018|    9|     Monday|  21|Part Three|       TALBOT AVE|42.29019621|-71.07159012|(42.29019621, -71...|\n",
      "|     I182070933|         724|          Auto Theft|          AUTO THEFT|      B2|           330|    null|2018-09-03 21:25:00|2018|    9|     Monday|  21|  Part One|      NORMANDY ST|42.30607218| -71.0827326|(42.30607218, -71...|\n",
      "|     I182070932|        3301|     Verbal Disputes|      VERBAL DISPUTE|      B2|           584|    null|2018-09-03 20:39:37|2018|    9|     Monday|  20|Part Three|          LAWN ST|42.32701648|-71.10555088|(42.32701648, -71...|\n",
      "|     I182070931|         301|             Robbery|    ROBBERY - STREET|      C6|           177|    null|2018-09-03 20:48:00|2018|    9|     Monday|  20|  Part One|MASSACHUSETTS AVE|42.33152148|-71.07085307|(42.33152148, -71...|\n",
      "|     I182070929|        3301|     Verbal Disputes|      VERBAL DISPUTE|     C11|           364|    null|2018-09-03 20:38:00|2018|    9|     Monday|  20|Part Three|        LESLIE ST|42.29514664|-71.05860832|(42.29514664, -71...|\n",
      "|     I182070928|        3301|     Verbal Disputes|      VERBAL DISPUTE|      C6|           913|    null|2018-09-03 19:55:00|2018|    9|     Monday|  19|Part Three|    OCEAN VIEW DR|42.31957856|-71.04032766|(42.31957856, -71...|\n",
      "|     I182070927|        3114|Investigate Property|INVESTIGATE PROPERTY|      C6|           936|    null|2018-09-03 20:19:00|2018|    9|     Monday|  20|Part Three|      DALESSIO CT|42.34011469|-71.05339029|(42.34011469, -71...|\n",
      "|     I182070923|        3108|Fire Related Reports|FIRE REPORT - HOU...|      D4|           139|    null|2018-09-03 19:58:00|2018|    9|     Monday|  19|Part Three|   MARLBOROUGH ST| 42.3503876| -71.0878529|(42.35038760, -71...|\n",
      "|     I182070922|        2647|               Other|THREATS TO DO BOD...|      B3|           429|    null|2018-09-03 20:39:00|2018|    9|     Monday|  20|  Part Two|      WOODROW AVE|42.28647012|-71.08714661|(42.28647012, -71...|\n",
      "|     I182070921|        3201|       Property Lost|     PROPERTY - LOST|      B3|           469|    null|2018-09-02 14:00:00|2018|    9|     Sunday|  14|Part Three|        MULVEY ST|42.27924052|-71.09667382|(42.27924052, -71...|\n",
      "|     I182070920|        3006|  Medical Assistance|SICK/INJURED/MEDI...|    null|              |    null|2018-09-03 19:43:00|2018|    9|     Monday|  19|Part Three|             null|42.35287456| -71.0738297|(42.35287456, -71...|\n",
      "|     I182070919|        3301|     Verbal Disputes|      VERBAL DISPUTE|     C11|           341|    null|2018-09-03 18:52:00|2018|    9|     Monday|  18|Part Three|    STONEHURST ST|42.30526428|-71.06683755|(42.30526428, -71...|\n",
      "|     I182070918|        3305|Assembly or Gathe...| DEMONSTRATIONS/RIOT|      D4|           130|    null|2018-09-03 17:00:00|2018|    9|     Monday|  17|Part Three|   HUNTINGTON AVE|42.34857652|-71.07772012|(42.34857652, -71...|\n",
      "|     I182070917|        2647|               Other|THREATS TO DO BOD...|      B2|           901|    null|2018-09-03 19:52:00|2018|    9|     Monday|  19|  Part Two|      HORADAN WAY|42.33371742|-71.09665806|(42.33371742, -71...|\n",
      "|     I182070915|         614|Larceny From Moto...|LARCENY THEFT FRO...|      B2|           181|    null|2018-09-02 18:00:00|2018|    9|     Sunday|  18|  Part One|       SHIRLEY ST| 42.3256949|-71.06816778|(42.32569490, -71...|\n",
      "+---------------+------------+--------------------+--------------------+--------+--------------+--------+-------------------+----+-----+-----------+----+----------+-----------------+-----------+------------+--------------------+\n",
      "only showing top 20 rows\n",
      "\n"
     ]
    },
    {
     "data": {
      "text/plain": [
       "\u001b[36mcrimeFacts\u001b[39m: \u001b[32mDataFrame\u001b[39m = [INCIDENT_NUMBER: string, OFFENSE_CODE: int ... 15 more fields]"
      ]
     },
     "execution_count": 11,
     "metadata": {},
     "output_type": "execute_result"
    }
   ],
   "source": [
    "val crimeFacts = spark\n",
    "    .read\n",
    "    .option(\"header\", \"true\")\n",
    "    .option(\"inferSchema\", \"true\")\n",
    "    .csv(\"crime.csv\")\n",
    "\n",
    "crimeFacts.show"
   ]
  },
  {
   "cell_type": "code",
   "execution_count": 10,
   "metadata": {},
   "outputs": [
    {
     "name": "stdout",
     "output_type": "stream",
     "text": [
      "== Parsed Logical Plan ==\n",
      "'Filter ('OFFENSE_CODE = 1402)\n",
      "+- Aggregate [OFFENSE_CODE#214], [OFFENSE_CODE#214, count(1) AS count#395L]\n",
      "   +- Relation[INCIDENT_NUMBER#213,OFFENSE_CODE#214,OFFENSE_CODE_GROUP#215,OFFENSE_DESCRIPTION#216,DISTRICT#217,REPORTING_AREA#218,SHOOTING#219,OCCURRED_ON_DATE#220,YEAR#221,MONTH#222,DAY_OF_WEEK#223,HOUR#224,UCR_PART#225,STREET#226,Lat#227,Long#228,Location#229] csv\n",
      "\n",
      "== Analyzed Logical Plan ==\n",
      "OFFENSE_CODE: int, count: bigint\n",
      "Filter (OFFENSE_CODE#214 = 1402)\n",
      "+- Aggregate [OFFENSE_CODE#214], [OFFENSE_CODE#214, count(1) AS count#395L]\n",
      "   +- Relation[INCIDENT_NUMBER#213,OFFENSE_CODE#214,OFFENSE_CODE_GROUP#215,OFFENSE_DESCRIPTION#216,DISTRICT#217,REPORTING_AREA#218,SHOOTING#219,OCCURRED_ON_DATE#220,YEAR#221,MONTH#222,DAY_OF_WEEK#223,HOUR#224,UCR_PART#225,STREET#226,Lat#227,Long#228,Location#229] csv\n",
      "\n",
      "== Optimized Logical Plan ==\n",
      "Aggregate [OFFENSE_CODE#214], [OFFENSE_CODE#214, count(1) AS count#395L]\n",
      "+- Project [OFFENSE_CODE#214]\n",
      "   +- Filter (isnotnull(OFFENSE_CODE#214) && (OFFENSE_CODE#214 = 1402))\n",
      "      +- Relation[INCIDENT_NUMBER#213,OFFENSE_CODE#214,OFFENSE_CODE_GROUP#215,OFFENSE_DESCRIPTION#216,DISTRICT#217,REPORTING_AREA#218,SHOOTING#219,OCCURRED_ON_DATE#220,YEAR#221,MONTH#222,DAY_OF_WEEK#223,HOUR#224,UCR_PART#225,STREET#226,Lat#227,Long#228,Location#229] csv\n",
      "\n",
      "== Physical Plan ==\n",
      "*(2) HashAggregate(keys=[OFFENSE_CODE#214], functions=[count(1)], output=[OFFENSE_CODE#214, count#395L])\n",
      "+- Exchange hashpartitioning(OFFENSE_CODE#214, 200)\n",
      "   +- *(1) HashAggregate(keys=[OFFENSE_CODE#214], functions=[partial_count(1)], output=[OFFENSE_CODE#214, count#404L])\n",
      "      +- *(1) Project [OFFENSE_CODE#214]\n",
      "         +- *(1) Filter (isnotnull(OFFENSE_CODE#214) && (OFFENSE_CODE#214 = 1402))\n",
      "            +- *(1) FileScan csv [OFFENSE_CODE#214] Batched: false, Format: CSV, Location: InMemoryFileIndex[file:/Users/e.mateshuk/Documents/projects/trainings/spark_demo_notebook/crime.csv], PartitionFilters: [], PushedFilters: [IsNotNull(OFFENSE_CODE), EqualTo(OFFENSE_CODE,1402)], ReadSchema: struct<OFFENSE_CODE:int>\n"
     ]
    },
    {
     "data": {
      "text/plain": [
       "\u001b[32mimport \u001b[39m\u001b[36mspark.implicits._\n",
       "\n",
       "\u001b[39m"
      ]
     },
     "execution_count": 10,
     "metadata": {},
     "output_type": "execute_result"
    }
   ],
   "source": [
    "import spark.implicits._\n",
    "\n",
    "crimeFacts.groupBy($\"OFFENSE_CODE\").count.filter($\"OFFENSE_CODE\" === 1402).explain(true)"
   ]
  },
  {
   "cell_type": "code",
   "execution_count": 12,
   "metadata": {
    "scrolled": true
   },
   "outputs": [
    {
     "data": {
      "text/html": [
       "<div>\n",
       "  <span style=\"float: left;\">csv at cmd11.sc:1</span>\n",
       "</div>\n"
      ]
     },
     "metadata": {},
     "output_type": "display_data"
    },
    {
     "data": {
      "text/html": [
       "<div class=\"progress\">\n",
       "  <div class=\"progress-bar\" role=\"progressbar\" style=\"background-color: blue; width: 100%; word-wrap: normal; white-space: nowrap; text-align: center; color: white\" aria-valuenow=\"100\" aria-valuemin=\"0\" aria-valuemax=\"100\">\n",
       "    1 / 1\n",
       "  </div>\n",
       "  <div class=\"progress-bar\" role=\"progressbar\" style=\"background-color: red; width: 0%\" aria-valuenow=\"0\" aria-valuemin=\"0\" aria-valuemax=\"100\"></div>\n",
       "</div>\n"
      ]
     },
     "metadata": {},
     "output_type": "display_data"
    },
    {
     "data": {
      "text/html": [
       "<div>\n",
       "  <span style=\"float: left;\">csv at cmd11.sc:1</span>\n",
       "</div>\n"
      ]
     },
     "metadata": {},
     "output_type": "display_data"
    },
    {
     "data": {
      "text/html": [
       "<div class=\"progress\">\n",
       "  <div class=\"progress-bar\" role=\"progressbar\" style=\"background-color: blue; width: 100%; word-wrap: normal; white-space: nowrap; text-align: center; color: white\" aria-valuenow=\"100\" aria-valuemin=\"0\" aria-valuemax=\"100\">\n",
       "    1 / 1\n",
       "  </div>\n",
       "  <div class=\"progress-bar\" role=\"progressbar\" style=\"background-color: red; width: 0%\" aria-valuenow=\"0\" aria-valuemin=\"0\" aria-valuemax=\"100\"></div>\n",
       "</div>\n"
      ]
     },
     "metadata": {},
     "output_type": "display_data"
    },
    {
     "data": {
      "text/html": [
       "<div>\n",
       "  <span style=\"float: left;\">show at cmd11.sc:2</span>\n",
       "</div>\n"
      ]
     },
     "metadata": {},
     "output_type": "display_data"
    },
    {
     "data": {
      "text/html": [
       "<div class=\"progress\">\n",
       "  <div class=\"progress-bar\" role=\"progressbar\" style=\"background-color: blue; width: 100%; word-wrap: normal; white-space: nowrap; text-align: center; color: white\" aria-valuenow=\"100\" aria-valuemin=\"0\" aria-valuemax=\"100\">\n",
       "    1 / 1\n",
       "  </div>\n",
       "  <div class=\"progress-bar\" role=\"progressbar\" style=\"background-color: red; width: 0%\" aria-valuenow=\"0\" aria-valuemin=\"0\" aria-valuemax=\"100\"></div>\n",
       "</div>\n"
      ]
     },
     "metadata": {},
     "output_type": "display_data"
    },
    {
     "name": "stdout",
     "output_type": "stream",
     "text": [
      "+----+----------------------------------------------------------+\n",
      "|CODE|NAME                                                      |\n",
      "+----+----------------------------------------------------------+\n",
      "|612 |LARCENY PURSE SNATCH - NO FORCE                           |\n",
      "|613 |LARCENY SHOPLIFTING                                       |\n",
      "|615 |LARCENY THEFT OF MV PARTS & ACCESSORIES                   |\n",
      "|1731|INCEST                                                    |\n",
      "|3111|LICENSE PREMISE VIOLATION                                 |\n",
      "|2646|LIQUOR - DRINKING IN PUBLIC                               |\n",
      "|2204|LIQUOR LAW VIOLATION                                      |\n",
      "|3810|M/V ACCIDENT - INVOLVING �BICYCLE - INJURY                |\n",
      "|3801|M/V ACCIDENT - OTHER                                      |\n",
      "|3807|M/V ACCIDENT - OTHER CITY VEHICLE                         |\n",
      "|3803|M/V ACCIDENT - PERSONAL INJURY                            |\n",
      "|3805|M/V ACCIDENT - POLICE VEHICLE                             |\n",
      "|3802|M/V ACCIDENT - PROPERTY �DAMAGE                           |\n",
      "|3205|M/V PLATES - LOST                                         |\n",
      "|123 |MANSLAUGHTER - NON-VEHICLE - NEGLIGENCE                   |\n",
      "|121 |MANSLAUGHTER - VEHICLE - NEGLIGENCE                       |\n",
      "|3501|MISSING PERSON                                            |\n",
      "|3502|MISSING PERSON - LOCATED                                  |\n",
      "|3503|MISSING PERSON - NOT REPORTED - LOCATED                   |\n",
      "|111 |MURDER, NON-NEGLIGIENT MANSLAUGHTER                       |\n",
      "|3303|NOISY PARTY/RADIO-ARREST                                  |\n",
      "|2623|OBSCENE MATERIALS - PORNOGRAPHY                           |\n",
      "|2628|OBSCENE PHONE CALLS                                       |\n",
      "|1711|OPEN & GROSS LEWDNESS                                     |\n",
      "|2007|VIOL. OF RESTRAINING ORDER W NO ARREST                    |\n",
      "|2102|OPERATING UNDER THE INFLUENCE DRUGS                       |\n",
      "|2660|OTHER OFFENSE                                             |\n",
      "|2900|VAL - VIOLATION OF AUTO LAW - OTHER                       |\n",
      "|1109|FRAUD - WIRE                                              |\n",
      "|2616|POSSESSION OF BURGLARIOUS TOOLS                           |\n",
      "|2606|PRISONER ATTEMPT TO RESCUE                                |\n",
      "|2636|PRISONER ESCAPE / ESCAPE & RECAPTURE                      |\n",
      "|3029|PRISONER - SUICIDE / SUICIDE ATTEMPT                      |\n",
      "|3106|PROPERTY - ACCIDENTAL DAMAGE                              |\n",
      "|1300|STOLEN PROPERTY - BUYING / RECEIVING / POSSESSING         |\n",
      "|3207|PROPERTY - FOUND                                          |\n",
      "|3201|PROPERTY - LOST                                           |\n",
      "|3202|PROPERTY - LOST THEN LOCATED                              |\n",
      "|3208|PROPERTY - MISSING                                        |\n",
      "|1304|PROPERTY - STOLEN THEN RECOVERED                          |\n",
      "|1603|PROSTITUTION - ASSISTING OR PROMOTING                     |\n",
      "|1605|PROSTITUTION - COMMON NIGHTWALKER                         |\n",
      "|1601|PROSTITUTION                                              |\n",
      "|1602|PROSTITUTION - SOLICITING                                 |\n",
      "|242 |RAPE - ATTEMPT - SODOMY                                   |\n",
      "|254 |RAPE - COMPLETE - FONDLING                                |\n",
      "|271 |RAPE - COMPLETE - OTHER                                   |\n",
      "|244 |RAPE - ATTEMPT - FONDLING                                 |\n",
      "|251 |RAPE - COMPLETE - FORCIBLE                                |\n",
      "|241 |RAPE - ATTEMPT - FORCIBLE                                 |\n",
      "|243 |RAPE - ATTEMPT - SEXUAL ASSAULT W/ OBJECT                 |\n",
      "|261 |RAPE - ATTEMPT - OTHER                                    |\n",
      "|252 |RAPE - COMPLETE - SODOMY                                  |\n",
      "|253 |RAPE - COMPLETE - SEXUAL ASSAULT W/ OBJECT                |\n",
      "|735 |RECOVERED - MV RECOVERED IN BOSTON (STOLEN OUTSIDE BOSTON)|\n",
      "|3620|REPORT AFFECTING OTHER DEPTS.                             |\n",
      "|301 |ROBBERY - STREET                                          |\n",
      "|311 |ROBBERY - COMMERCIAL                                      |\n",
      "|351 |ROBBERY - BANK                                            |\n",
      "|361 |ROBBERY - OTHER                                           |\n",
      "|371 |ROBBERY - HOME INVASION                                   |\n",
      "|381 |ROBBERY - CAR JACKING                                     |\n",
      "|3403|PROTECTIVE CUSTODY / SAFEKEEPING                          |\n",
      "|3109|SERVICE TO OTHER PD INSIDE OF MA.                         |\n",
      "|3110|SERVICE TO OTHER PD OUTSIDE OF MA.                        |\n",
      "|1730|SEXUAL ASSAULT INVESTIGATION                              |\n",
      "|3006|SICK/INJURED/MEDICAL - PERSON                             |\n",
      "|801 |ASSAULT - SIMPLE                                          |\n",
      "|804 |STALKING                                                  |\n",
      "|1704|STATUTORY RAPE                                            |\n",
      "|2647|THREATS TO DO BODILY HARM                                 |\n",
      "|3410|TOWED MOTOR VEHICLE                                       |\n",
      "|2610|TRESPASSING                                               |\n",
      "|2642|TRUANCY / RUNAWAY                                         |\n",
      "|2915|VAL - MISCELLANEOUS                                       |\n",
      "|2907|VAL - OPERATING AFTER REV/SUSP.                           |\n",
      "|2906|VAL - OPERATING UNREG/UNINS �CAR                          |\n",
      "|2905|VAL - OPERATING WITHOUT LICENSE                           |\n",
      "|2914|VAL - OPERATING W/O AUTHORIZATION LAWFUL                  |\n",
      "|1402|VANDALISM                                                 |\n",
      "|1415|GRAFFITI                                                  |\n",
      "|3301|VERBAL DISPUTE                                            |\n",
      "|2657|VIOLATION - CITY ORDINANCE                                |\n",
      "|2641|VIOLATION - HAWKER AND PEDDLER                            |\n",
      "|2006|VIOL. OF RESTRAINING ORDER W ARREST                       |\n",
      "|2663|VIOLATION - CITY ORDINANCE CONSTRUCTION PERMIT            |\n",
      "|3125|WARRANT ARREST                                            |\n",
      "|2511|KIDNAPPING - ENTICING OR ATTEMPTED                        |\n",
      "|2613|ANIMAL ABUSE                                              |\n",
      "|3002|ANIMAL CONTROL - DOG BITES - ETC.                         |\n",
      "|3402|ANIMAL INCIDENTS                                          |\n",
      "|802 |ASSAULT SIMPLE - BATTERY                                  |\n",
      "|423 |ASSAULT - AGGRAVATED                                      |\n",
      "|413 |ASSAULT - AGGRAVATED - BATTERY                            |\n",
      "|724 |AUTO THEFT                                                |\n",
      "|727 |AUTO THEFT - LEASED/RENTED VEHICLE                        |\n",
      "|706 |AUTO THEFT - MOTORCYCLE / SCOOTER                         |\n",
      "|541 |BURGLARY - COMMERICAL - ATTEMPT                           |\n",
      "|540 |BURGLARY - COMMERICAL - FORCE                             |\n",
      "|562 |BURGLARY - OTHER - NO FORCE                               |\n",
      "+----+----------------------------------------------------------+\n",
      "only showing top 100 rows\n",
      "\n"
     ]
    },
    {
     "data": {
      "text/plain": [
       "\u001b[36moffenseCodes\u001b[39m: \u001b[32mDataFrame\u001b[39m = [CODE: int, NAME: string]"
      ]
     },
     "execution_count": 12,
     "metadata": {},
     "output_type": "execute_result"
    }
   ],
   "source": [
    "val offenseCodes = spark.read.option(\"header\", \"true\").option(\"inferSchema\", \"true\").csv(\"offense_codes.csv\")\n",
    "offenseCodes.show(100, false)"
   ]
  },
  {
   "cell_type": "code",
   "execution_count": 14,
   "metadata": {
    "scrolled": true
   },
   "outputs": [
    {
     "data": {
      "text/html": [
       "<div>\n",
       "  <span style=\"float: left;\">show at cmd13.sc:10</span>\n",
       "</div>\n"
      ]
     },
     "metadata": {},
     "output_type": "display_data"
    },
    {
     "data": {
      "text/html": [
       "<div class=\"progress\">\n",
       "  <div class=\"progress-bar\" role=\"progressbar\" style=\"background-color: blue; width: 100%; word-wrap: normal; white-space: nowrap; text-align: center; color: white\" aria-valuenow=\"100\" aria-valuemin=\"0\" aria-valuemax=\"100\">\n",
       "    12 / 12\n",
       "  </div>\n",
       "  <div class=\"progress-bar\" role=\"progressbar\" style=\"background-color: red; width: 0%\" aria-valuenow=\"0\" aria-valuemin=\"0\" aria-valuemax=\"100\"></div>\n",
       "</div>\n"
      ]
     },
     "metadata": {},
     "output_type": "display_data"
    },
    {
     "data": {
      "text/html": [
       "<div>\n",
       "  <span style=\"float: left;\">show at cmd13.sc:10</span>\n",
       "</div>\n"
      ]
     },
     "metadata": {},
     "output_type": "display_data"
    },
    {
     "data": {
      "text/html": [
       "<div class=\"progress\">\n",
       "  <div class=\"progress-bar\" role=\"progressbar\" style=\"background-color: blue; width: 100%; word-wrap: normal; white-space: nowrap; text-align: center; color: white\" aria-valuenow=\"100\" aria-valuemin=\"0\" aria-valuemax=\"100\">\n",
       "    1 / 1\n",
       "  </div>\n",
       "  <div class=\"progress-bar\" role=\"progressbar\" style=\"background-color: red; width: 0%\" aria-valuenow=\"0\" aria-valuemin=\"0\" aria-valuemax=\"100\"></div>\n",
       "</div>\n"
      ]
     },
     "metadata": {},
     "output_type": "display_data"
    },
    {
     "data": {
      "text/html": [
       "<div>\n",
       "  <span style=\"float: left;\">show at cmd13.sc:10</span>\n",
       "</div>\n"
      ]
     },
     "metadata": {},
     "output_type": "display_data"
    },
    {
     "data": {
      "text/html": [
       "<div class=\"progress\">\n",
       "  <div class=\"progress-bar\" role=\"progressbar\" style=\"background-color: blue; width: 100%; word-wrap: normal; white-space: nowrap; text-align: center; color: white\" aria-valuenow=\"100\" aria-valuemin=\"0\" aria-valuemax=\"100\">\n",
       "    200 / 200\n",
       "  </div>\n",
       "  <div class=\"progress-bar\" role=\"progressbar\" style=\"background-color: red; width: 0%\" aria-valuenow=\"0\" aria-valuemin=\"0\" aria-valuemax=\"100\"></div>\n",
       "</div>\n"
      ]
     },
     "metadata": {},
     "output_type": "display_data"
    },
    {
     "data": {
      "text/html": [
       "<div>\n",
       "  <span style=\"float: left;\">show at cmd13.sc:10</span>\n",
       "</div>\n"
      ]
     },
     "metadata": {},
     "output_type": "display_data"
    },
    {
     "data": {
      "text/html": [
       "<div class=\"progress\">\n",
       "  <div class=\"progress-bar\" role=\"progressbar\" style=\"background-color: blue; width: 100%; word-wrap: normal; white-space: nowrap; text-align: center; color: white\" aria-valuenow=\"100\" aria-valuemin=\"0\" aria-valuemax=\"100\">\n",
       "    200 / 200\n",
       "  </div>\n",
       "  <div class=\"progress-bar\" role=\"progressbar\" style=\"background-color: red; width: 0%\" aria-valuenow=\"0\" aria-valuemin=\"0\" aria-valuemax=\"100\"></div>\n",
       "</div>\n"
      ]
     },
     "metadata": {},
     "output_type": "display_data"
    },
    {
     "name": "stdout",
     "output_type": "stream",
     "text": [
      "+----------------------------------------------+-----+\n",
      "|NAME                                          |count|\n",
      "+----------------------------------------------+-----+\n",
      "|ROBBERY - STREET                              |3056 |\n",
      "|ROBBERY - FIREARM - BANK                      |3056 |\n",
      "|ROBBERY - OTHER                               |635  |\n",
      "|ROBBERY ATTEMPT - OTHER WEAPON - MISCELLANEOUS|635  |\n",
      "|ROBBERY - KNIFE - CHAIN STORE                 |554  |\n",
      "|ROBBERY - COMMERCIAL                          |554  |\n",
      "|ROBBERY ATTEMPT - KNIFE - CHAIN STORE         |181  |\n",
      "|ROBBERY - BANK                                |181  |\n",
      "|ROBBERY - HOME INVASION                       |104  |\n",
      "|ROBBERY - CAR JACKING                         |86   |\n",
      "|ROBBERY - UNARMED - STREET                    |3    |\n",
      "|ROBBERY ATTEMPT - KNIFE - BANK                |1    |\n",
      "|ROBBERY - UNARMED - BUSINESS                  |1    |\n",
      "|ROBBERY - UNARMED - CHAIN STORE               |1    |\n",
      "|ROBBERY - KNIFE - STREET                      |1    |\n",
      "|ROBBERY - UNARMED - RESIDENCE                 |1    |\n",
      "+----------------------------------------------+-----+\n",
      "\n"
     ]
    },
    {
     "data": {
      "text/plain": [
       "\u001b[32mimport \u001b[39m\u001b[36mspark.implicits._\n",
       "\n",
       "\u001b[39m\n",
       "\u001b[36mrobberyStats\u001b[39m: \u001b[32mDataset\u001b[39m[\u001b[32mRow\u001b[39m] = [NAME: string, count: bigint]"
      ]
     },
     "execution_count": 14,
     "metadata": {},
     "output_type": "execute_result"
    }
   ],
   "source": [
    "import spark.implicits._\n",
    "\n",
    "val robberyStats = crimeFacts\n",
    "    .join(offenseCodes, $\"CODE\" === $\"OFFENSE_CODE\")\n",
    "    .filter($\"NAME\".startsWith(\"ROBBERY\"))\n",
    "    .groupBy($\"NAME\")\n",
    "    .count()\n",
    "    .orderBy($\"count\".desc)\n",
    "    \n",
    "robberyStats.show(false)\n",
    "// robberyStats.explain(true)"
   ]
  },
  {
   "cell_type": "code",
   "execution_count": 16,
   "metadata": {
    "scrolled": false
   },
   "outputs": [
    {
     "name": "stdout",
     "output_type": "stream",
     "text": [
      "== Parsed Logical Plan ==\n",
      "'Sort ['count DESC NULLS LAST], true\n",
      "+- Aggregate [NAME#529], [NAME#529, count(1) AS count#885L]\n",
      "   +- Filter StartsWith(NAME#529, ROBBERY)\n",
      "      +- Join Inner, (CODE#528 = OFFENSE_CODE#416)\n",
      "         :- Relation[INCIDENT_NUMBER#415,OFFENSE_CODE#416,OFFENSE_CODE_GROUP#417,OFFENSE_DESCRIPTION#418,DISTRICT#419,REPORTING_AREA#420,SHOOTING#421,OCCURRED_ON_DATE#422,YEAR#423,MONTH#424,DAY_OF_WEEK#425,HOUR#426,UCR_PART#427,STREET#428,Lat#429,Long#430,Location#431] csv\n",
      "         +- ResolvedHint (broadcast)\n",
      "            +- Relation[CODE#528,NAME#529] csv\n",
      "\n",
      "== Analyzed Logical Plan ==\n",
      "NAME: string, count: bigint\n",
      "Sort [count#885L DESC NULLS LAST], true\n",
      "+- Aggregate [NAME#529], [NAME#529, count(1) AS count#885L]\n",
      "   +- Filter StartsWith(NAME#529, ROBBERY)\n",
      "      +- Join Inner, (CODE#528 = OFFENSE_CODE#416)\n",
      "         :- Relation[INCIDENT_NUMBER#415,OFFENSE_CODE#416,OFFENSE_CODE_GROUP#417,OFFENSE_DESCRIPTION#418,DISTRICT#419,REPORTING_AREA#420,SHOOTING#421,OCCURRED_ON_DATE#422,YEAR#423,MONTH#424,DAY_OF_WEEK#425,HOUR#426,UCR_PART#427,STREET#428,Lat#429,Long#430,Location#431] csv\n",
      "         +- ResolvedHint (broadcast)\n",
      "            +- Relation[CODE#528,NAME#529] csv\n",
      "\n",
      "== Optimized Logical Plan ==\n",
      "Sort [count#885L DESC NULLS LAST], true\n",
      "+- Aggregate [NAME#529], [NAME#529, count(1) AS count#885L]\n",
      "   +- Project [NAME#529]\n",
      "      +- Join Inner, (CODE#528 = OFFENSE_CODE#416)\n",
      "         :- Project [OFFENSE_CODE#416]\n",
      "         :  +- Filter isnotnull(OFFENSE_CODE#416)\n",
      "         :     +- Relation[INCIDENT_NUMBER#415,OFFENSE_CODE#416,OFFENSE_CODE_GROUP#417,OFFENSE_DESCRIPTION#418,DISTRICT#419,REPORTING_AREA#420,SHOOTING#421,OCCURRED_ON_DATE#422,YEAR#423,MONTH#424,DAY_OF_WEEK#425,HOUR#426,UCR_PART#427,STREET#428,Lat#429,Long#430,Location#431] csv\n",
      "         +- ResolvedHint (broadcast)\n",
      "            +- Filter ((isnotnull(NAME#529) && StartsWith(NAME#529, ROBBERY)) && isnotnull(CODE#528))\n",
      "               +- Relation[CODE#528,NAME#529] csv\n",
      "\n",
      "== Physical Plan ==\n",
      "*(4) Sort [count#885L DESC NULLS LAST], true, 0\n",
      "+- Exchange rangepartitioning(count#885L DESC NULLS LAST, 200)\n",
      "   +- *(3) HashAggregate(keys=[NAME#529], functions=[count(1)], output=[NAME#529, count#885L])\n",
      "      +- Exchange hashpartitioning(NAME#529, 200)\n",
      "         +- *(2) HashAggregate(keys=[NAME#529], functions=[partial_count(1)], output=[NAME#529, count#890L])\n",
      "            +- *(2) Project [NAME#529]\n",
      "               +- *(2) BroadcastHashJoin [OFFENSE_CODE#416], [CODE#528], Inner, BuildRight\n",
      "                  :- *(2) Project [OFFENSE_CODE#416]\n",
      "                  :  +- *(2) Filter isnotnull(OFFENSE_CODE#416)\n",
      "                  :     +- *(2) FileScan csv [OFFENSE_CODE#416] Batched: false, Format: CSV, Location: InMemoryFileIndex[file:/Users/e.mateshuk/Documents/projects/trainings/spark_demo_notebook/crime.csv], PartitionFilters: [], PushedFilters: [IsNotNull(OFFENSE_CODE)], ReadSchema: struct<OFFENSE_CODE:int>\n",
      "                  +- BroadcastExchange HashedRelationBroadcastMode(List(cast(input[0, int, true] as bigint)))\n",
      "                     +- *(1) Project [CODE#528, NAME#529]\n",
      "                        +- *(1) Filter ((isnotnull(NAME#529) && StartsWith(NAME#529, ROBBERY)) && isnotnull(CODE#528))\n",
      "                           +- *(1) FileScan csv [CODE#528,NAME#529] Batched: false, Format: CSV, Location: InMemoryFileIndex[file:/Users/e.mateshuk/Documents/projects/trainings/spark_demo_notebook/offense..., PartitionFilters: [], PushedFilters: [IsNotNull(NAME), StringStartsWith(NAME,ROBBERY), IsNotNull(CODE)], ReadSchema: struct<CODE:int,NAME:string>\n"
     ]
    },
    {
     "data": {
      "text/plain": [
       "\u001b[32mimport \u001b[39m\u001b[36morg.apache.spark.sql.functions.broadcast\n",
       "\n",
       "\u001b[39m\n",
       "\u001b[36moffenseCodesBroadcast\u001b[39m: \u001b[32mDataset\u001b[39m[\u001b[32mRow\u001b[39m] = [CODE: int, NAME: string]\n",
       "\u001b[36mrobberyStatsWithBroadcast\u001b[39m: \u001b[32mDataset\u001b[39m[\u001b[32mRow\u001b[39m] = [NAME: string, count: bigint]"
      ]
     },
     "execution_count": 16,
     "metadata": {},
     "output_type": "execute_result"
    }
   ],
   "source": [
    "import org.apache.spark.sql.functions.broadcast\n",
    "\n",
    "val offenseCodesBroadcast = broadcast(offenseCodes)\n",
    "\n",
    "val robberyStatsWithBroadcast = crimeFacts\n",
    "    .join(offenseCodesBroadcast, $\"CODE\" === $\"OFFENSE_CODE\")\n",
    "    .filter($\"NAME\".startsWith(\"ROBBERY\"))\n",
    "    .groupBy($\"NAME\")\n",
    "    .count()\n",
    "    .orderBy($\"count\".desc)\n",
    "    \n",
    "robberyStatsWithBroadcast.explain(true)"
   ]
  },
  {
   "cell_type": "code",
   "execution_count": 22,
   "metadata": {},
   "outputs": [
    {
     "data": {
      "text/html": [
       "<div>\n",
       "  <span style=\"float: left;\">count at cmd21.sc:3</span>\n",
       "</div>\n"
      ]
     },
     "metadata": {},
     "output_type": "display_data"
    },
    {
     "data": {
      "text/html": [
       "<div class=\"progress\">\n",
       "  <div class=\"progress-bar\" role=\"progressbar\" style=\"background-color: blue; width: 100%; word-wrap: normal; white-space: nowrap; text-align: center; color: white\" aria-valuenow=\"100\" aria-valuemin=\"0\" aria-valuemax=\"100\">\n",
       "    12 / 12\n",
       "  </div>\n",
       "  <div class=\"progress-bar\" role=\"progressbar\" style=\"background-color: red; width: 0%\" aria-valuenow=\"0\" aria-valuemin=\"0\" aria-valuemax=\"100\"></div>\n",
       "</div>\n"
      ]
     },
     "metadata": {},
     "output_type": "display_data"
    },
    {
     "data": {
      "text/html": [
       "<div>\n",
       "  <span style=\"float: left;\">count at cmd21.sc:3</span>\n",
       "</div>\n"
      ]
     },
     "metadata": {},
     "output_type": "display_data"
    },
    {
     "data": {
      "text/html": [
       "<div class=\"progress\">\n",
       "  <div class=\"progress-bar\" role=\"progressbar\" style=\"background-color: blue; width: 100%; word-wrap: normal; white-space: nowrap; text-align: center; color: white\" aria-valuenow=\"100\" aria-valuemin=\"0\" aria-valuemax=\"100\">\n",
       "    1 / 1\n",
       "  </div>\n",
       "  <div class=\"progress-bar\" role=\"progressbar\" style=\"background-color: red; width: 0%\" aria-valuenow=\"0\" aria-valuemin=\"0\" aria-valuemax=\"100\"></div>\n",
       "</div>\n"
      ]
     },
     "metadata": {},
     "output_type": "display_data"
    },
    {
     "data": {
      "text/html": [
       "<div>\n",
       "  <span style=\"float: left;\">count at cmd21.sc:4</span>\n",
       "</div>\n"
      ]
     },
     "metadata": {},
     "output_type": "display_data"
    },
    {
     "data": {
      "text/html": [
       "<div class=\"progress\">\n",
       "  <div class=\"progress-bar\" role=\"progressbar\" style=\"background-color: blue; width: 100%; word-wrap: normal; white-space: nowrap; text-align: center; color: white\" aria-valuenow=\"100\" aria-valuemin=\"0\" aria-valuemax=\"100\">\n",
       "    12 / 12\n",
       "  </div>\n",
       "  <div class=\"progress-bar\" role=\"progressbar\" style=\"background-color: red; width: 0%\" aria-valuenow=\"0\" aria-valuemin=\"0\" aria-valuemax=\"100\"></div>\n",
       "</div>\n"
      ]
     },
     "metadata": {},
     "output_type": "display_data"
    },
    {
     "data": {
      "text/html": [
       "<div>\n",
       "  <span style=\"float: left;\">count at cmd21.sc:4</span>\n",
       "</div>\n"
      ]
     },
     "metadata": {},
     "output_type": "display_data"
    },
    {
     "data": {
      "text/html": [
       "<div class=\"progress\">\n",
       "  <div class=\"progress-bar\" role=\"progressbar\" style=\"background-color: blue; width: 100%; word-wrap: normal; white-space: nowrap; text-align: center; color: white\" aria-valuenow=\"100\" aria-valuemin=\"0\" aria-valuemax=\"100\">\n",
       "    1 / 1\n",
       "  </div>\n",
       "  <div class=\"progress-bar\" role=\"progressbar\" style=\"background-color: red; width: 0%\" aria-valuenow=\"0\" aria-valuemin=\"0\" aria-valuemax=\"100\"></div>\n",
       "</div>\n"
      ]
     },
     "metadata": {},
     "output_type": "display_data"
    },
    {
     "data": {
      "text/plain": [
       "\u001b[36mcachedCrimeFacts\u001b[39m: \u001b[32mDataset\u001b[39m[\u001b[32mRow\u001b[39m] = [INCIDENT_NUMBER: string]\n",
       "\u001b[36mres21_1\u001b[39m: \u001b[32mLong\u001b[39m = \u001b[32m319073L\u001b[39m\n",
       "\u001b[36mres21_2\u001b[39m: \u001b[32mLong\u001b[39m = \u001b[32m319073L\u001b[39m\n",
       "\u001b[36mres21_3\u001b[39m: \u001b[32mDataset\u001b[39m[\u001b[32mRow\u001b[39m] = [INCIDENT_NUMBER: string]"
      ]
     },
     "execution_count": 22,
     "metadata": {},
     "output_type": "execute_result"
    }
   ],
   "source": [
    "val cachedCrimeFacts = crimeFacts.select(\"INCIDENT_NUMBER\").cache()\n",
    "\n",
    "cachedCrimeFacts.count()\n",
    "cachedCrimeFacts.count()\n",
    "\n",
    "cachedCrimeFacts.unpersist()"
   ]
  },
  {
   "cell_type": "code",
   "execution_count": 19,
   "metadata": {},
   "outputs": [
    {
     "data": {
      "text/html": [
       "<div>\n",
       "  <span style=\"float: left;\">collect at cmd18.sc:8</span>\n",
       "</div>\n"
      ]
     },
     "metadata": {},
     "output_type": "display_data"
    },
    {
     "data": {
      "text/html": [
       "<div class=\"progress\">\n",
       "  <div class=\"progress-bar\" role=\"progressbar\" style=\"background-color: blue; width: 100%; word-wrap: normal; white-space: nowrap; text-align: center; color: white\" aria-valuenow=\"100\" aria-valuemin=\"0\" aria-valuemax=\"100\">\n",
       "    12 / 12\n",
       "  </div>\n",
       "  <div class=\"progress-bar\" role=\"progressbar\" style=\"background-color: red; width: 0%\" aria-valuenow=\"0\" aria-valuemin=\"0\" aria-valuemax=\"100\"></div>\n",
       "</div>\n"
      ]
     },
     "metadata": {},
     "output_type": "display_data"
    },
    {
     "data": {
      "text/plain": [
       "defined \u001b[32mclass\u001b[39m \u001b[36mNotSerializableClass\u001b[39m\n",
       "\u001b[36mres18_1\u001b[39m: \u001b[32mArray\u001b[39m[\u001b[32mInt\u001b[39m] = \u001b[33mArray\u001b[39m(\u001b[32m2\u001b[39m, \u001b[32m3\u001b[39m, \u001b[32m4\u001b[39m)"
      ]
     },
     "execution_count": 19,
     "metadata": {},
     "output_type": "execute_result"
    }
   ],
   "source": [
    "class NotSerializableClass(value: Int) {\n",
    "    def getValue = value\n",
    "}\n",
    "\n",
    "val breakIt = new NotSerializableClass(1)\n",
    "\n",
    "sc.parallelize(Seq(1, 2, 3))\n",
    "    .map { x =>\n",
    "        x + breakIt.getValue\n",
    "    }\n",
    "    .collect()"
   ]
  },
  {
   "cell_type": "code",
   "execution_count": 17,
   "metadata": {},
   "outputs": [
    {
     "data": {
      "text/html": [
       "<div>\n",
       "  <span style=\"float: left;\">count at cmd16.sc:5</span>\n",
       "</div>\n"
      ]
     },
     "metadata": {},
     "output_type": "display_data"
    },
    {
     "data": {
      "text/html": [
       "<div class=\"progress\">\n",
       "  <div class=\"progress-bar\" role=\"progressbar\" style=\"background-color: blue; width: 100%; word-wrap: normal; white-space: nowrap; text-align: center; color: white\" aria-valuenow=\"100\" aria-valuemin=\"0\" aria-valuemax=\"100\">\n",
       "    1 / 1\n",
       "  </div>\n",
       "  <div class=\"progress-bar\" role=\"progressbar\" style=\"background-color: red; width: 0%\" aria-valuenow=\"0\" aria-valuemin=\"0\" aria-valuemax=\"100\"></div>\n",
       "</div>\n"
      ]
     },
     "metadata": {},
     "output_type": "display_data"
    },
    {
     "data": {
      "text/html": [
       "<div>\n",
       "  <span style=\"float: left;\">count at cmd16.sc:5</span>\n",
       "</div>\n"
      ]
     },
     "metadata": {},
     "output_type": "display_data"
    },
    {
     "data": {
      "text/html": [
       "<div class=\"progress\">\n",
       "  <div class=\"progress-bar\" role=\"progressbar\" style=\"background-color: blue; width: 100%; word-wrap: normal; white-space: nowrap; text-align: center; color: white\" aria-valuenow=\"100\" aria-valuemin=\"0\" aria-valuemax=\"100\">\n",
       "    200 / 200\n",
       "  </div>\n",
       "  <div class=\"progress-bar\" role=\"progressbar\" style=\"background-color: red; width: 0%\" aria-valuenow=\"0\" aria-valuemin=\"0\" aria-valuemax=\"100\"></div>\n",
       "</div>\n"
      ]
     },
     "metadata": {},
     "output_type": "display_data"
    },
    {
     "data": {
      "text/html": [
       "<div>\n",
       "  <span style=\"float: left;\">count at cmd16.sc:5</span>\n",
       "</div>\n"
      ]
     },
     "metadata": {},
     "output_type": "display_data"
    },
    {
     "data": {
      "text/html": [
       "<div class=\"progress\">\n",
       "  <div class=\"progress-bar\" role=\"progressbar\" style=\"background-color: blue; width: 100%; word-wrap: normal; white-space: nowrap; text-align: center; color: white\" aria-valuenow=\"100\" aria-valuemin=\"0\" aria-valuemax=\"100\">\n",
       "    1 / 1\n",
       "  </div>\n",
       "  <div class=\"progress-bar\" role=\"progressbar\" style=\"background-color: red; width: 0%\" aria-valuenow=\"0\" aria-valuemin=\"0\" aria-valuemax=\"100\"></div>\n",
       "</div>\n"
      ]
     },
     "metadata": {},
     "output_type": "display_data"
    },
    {
     "data": {
      "text/html": [
       "<div>\n",
       "  <span style=\"float: left;\">bloomFilter at cmd16.sc:11</span>\n",
       "</div>\n"
      ]
     },
     "metadata": {},
     "output_type": "display_data"
    },
    {
     "data": {
      "text/html": [
       "<div class=\"progress\">\n",
       "  <div class=\"progress-bar\" role=\"progressbar\" style=\"background-color: blue; width: 100%; word-wrap: normal; white-space: nowrap; text-align: center; color: white\" aria-valuenow=\"100\" aria-valuemin=\"0\" aria-valuemax=\"100\">\n",
       "    1 / 1\n",
       "  </div>\n",
       "  <div class=\"progress-bar\" role=\"progressbar\" style=\"background-color: red; width: 0%\" aria-valuenow=\"0\" aria-valuemin=\"0\" aria-valuemax=\"100\"></div>\n",
       "</div>\n"
      ]
     },
     "metadata": {},
     "output_type": "display_data"
    },
    {
     "data": {
      "text/html": [
       "<div>\n",
       "  <span style=\"float: left;\">show at cmd16.sc:29</span>\n",
       "</div>\n"
      ]
     },
     "metadata": {},
     "output_type": "display_data"
    },
    {
     "data": {
      "text/html": [
       "<div class=\"progress\">\n",
       "  <div class=\"progress-bar\" role=\"progressbar\" style=\"background-color: blue; width: 100%; word-wrap: normal; white-space: nowrap; text-align: center; color: white\" aria-valuenow=\"100\" aria-valuemin=\"0\" aria-valuemax=\"100\">\n",
       "    1 / 1\n",
       "  </div>\n",
       "  <div class=\"progress-bar\" role=\"progressbar\" style=\"background-color: red; width: 0%\" aria-valuenow=\"0\" aria-valuemin=\"0\" aria-valuemax=\"100\"></div>\n",
       "</div>\n"
      ]
     },
     "metadata": {},
     "output_type": "display_data"
    },
    {
     "data": {
      "text/html": [
       "<div>\n",
       "  <span style=\"float: left;\">show at cmd16.sc:29</span>\n",
       "</div>\n"
      ]
     },
     "metadata": {},
     "output_type": "display_data"
    },
    {
     "data": {
      "text/html": [
       "<div class=\"progress\">\n",
       "  <div class=\"progress-bar\" role=\"progressbar\" style=\"background-color: blue; width: 100%; word-wrap: normal; white-space: nowrap; text-align: center; color: white\" aria-valuenow=\"100\" aria-valuemin=\"0\" aria-valuemax=\"100\">\n",
       "    12 / 12\n",
       "  </div>\n",
       "  <div class=\"progress-bar\" role=\"progressbar\" style=\"background-color: red; width: 0%\" aria-valuenow=\"0\" aria-valuemin=\"0\" aria-valuemax=\"100\"></div>\n",
       "</div>\n"
      ]
     },
     "metadata": {},
     "output_type": "display_data"
    },
    {
     "data": {
      "text/html": [
       "<div>\n",
       "  <span style=\"float: left;\">show at cmd16.sc:29</span>\n",
       "</div>\n"
      ]
     },
     "metadata": {},
     "output_type": "display_data"
    },
    {
     "data": {
      "text/html": [
       "<div class=\"progress\">\n",
       "  <div class=\"progress-bar\" role=\"progressbar\" style=\"background-color: blue; width: 100%; word-wrap: normal; white-space: nowrap; text-align: center; color: white\" aria-valuenow=\"100\" aria-valuemin=\"0\" aria-valuemax=\"100\">\n",
       "    200 / 200\n",
       "  </div>\n",
       "  <div class=\"progress-bar\" role=\"progressbar\" style=\"background-color: red; width: 0%\" aria-valuenow=\"0\" aria-valuemin=\"0\" aria-valuemax=\"100\"></div>\n",
       "</div>\n"
      ]
     },
     "metadata": {},
     "output_type": "display_data"
    },
    {
     "data": {
      "text/html": [
       "<div>\n",
       "  <span style=\"float: left;\">show at cmd16.sc:29</span>\n",
       "</div>\n"
      ]
     },
     "metadata": {},
     "output_type": "display_data"
    },
    {
     "data": {
      "text/html": [
       "<div class=\"progress\">\n",
       "  <div class=\"progress-bar\" role=\"progressbar\" style=\"background-color: blue; width: 100%; word-wrap: normal; white-space: nowrap; text-align: center; color: white\" aria-valuenow=\"100\" aria-valuemin=\"0\" aria-valuemax=\"100\">\n",
       "    200 / 200\n",
       "  </div>\n",
       "  <div class=\"progress-bar\" role=\"progressbar\" style=\"background-color: red; width: 0%\" aria-valuenow=\"0\" aria-valuemin=\"0\" aria-valuemax=\"100\"></div>\n",
       "</div>\n"
      ]
     },
     "metadata": {},
     "output_type": "display_data"
    },
    {
     "name": "stdout",
     "output_type": "stream",
     "text": [
      "+--------------------+-----+\n",
      "|                NAME|count|\n",
      "+--------------------+-----+\n",
      "|    ROBBERY - STREET| 3056|\n",
      "|ROBBERY - FIREARM...| 3056|\n",
      "|ROBBERY ATTEMPT -...|  635|\n",
      "|     ROBBERY - OTHER|  635|\n",
      "|ROBBERY - COMMERCIAL|  554|\n",
      "|ROBBERY - KNIFE -...|  554|\n",
      "|      ROBBERY - BANK|  181|\n",
      "|ROBBERY ATTEMPT -...|  181|\n",
      "|ROBBERY - HOME IN...|  104|\n",
      "|ROBBERY - CAR JAC...|   86|\n",
      "|ROBBERY - UNARMED...|    3|\n",
      "|ROBBERY - KNIFE -...|    1|\n",
      "|ROBBERY - UNARMED...|    1|\n",
      "|ROBBERY ATTEMPT -...|    1|\n",
      "|ROBBERY - UNARMED...|    1|\n",
      "|ROBBERY - UNARMED...|    1|\n",
      "+--------------------+-----+\n",
      "\n"
     ]
    },
    {
     "data": {
      "text/plain": [
       "\u001b[32mimport \u001b[39m\u001b[36mspark.implicits._\n",
       "\n",
       "\u001b[39m\n",
       "\u001b[36mcodesTotal\u001b[39m: \u001b[32mLong\u001b[39m = \u001b[32m58L\u001b[39m\n",
       "\u001b[36mbf\u001b[39m: \u001b[32morg\u001b[39m.\u001b[32mapache\u001b[39m.\u001b[32mspark\u001b[39m.\u001b[32mutil\u001b[39m.\u001b[32msketch\u001b[39m.\u001b[32mBloomFilter\u001b[39m = org.apache.spark.util.sketch.BloomFilterImpl@bd441056\n",
       "\u001b[32mimport \u001b[39m\u001b[36morg.apache.spark.sql.functions.udf\n",
       "\n",
       "\u001b[39m\n",
       "\u001b[36mmightContain\u001b[39m: \u001b[32mexpressions\u001b[39m.\u001b[32mUserDefinedFunction\u001b[39m = \u001b[33mUserDefinedFunction\u001b[39m(\n",
       "  ammonite.$sess.cmd16$Helper$$Lambda$6508/579758888@1402542,\n",
       "  BooleanType,\n",
       "  \u001b[33mSome\u001b[39m(\u001b[33mList\u001b[39m(IntegerType))\n",
       ")\n",
       "\u001b[36mrobberyStatsWithBf\u001b[39m: \u001b[32mDataset\u001b[39m[\u001b[32mRow\u001b[39m] = [NAME: string, count: bigint]"
      ]
     },
     "execution_count": 17,
     "metadata": {},
     "output_type": "execute_result"
    }
   ],
   "source": [
    "import spark.implicits._\n",
    "\n",
    "val codesTotal = offenseCodes\n",
    "    .filter('NAME.startsWith(\"ROBBERY\"))\n",
    "    .select('CODE)\n",
    "    .distinct\n",
    "    .count()\n",
    "\n",
    "val bf = offenseCodes\n",
    "    .filter('NAME.startsWith(\"ROBBERY\"))\n",
    "    .stat.bloomFilter('CODE, codesTotal, 0.01)\n",
    "\n",
    "import org.apache.spark.sql.functions.udf\n",
    "\n",
    "val mightContain = udf((s: Int) => bf.mightContain(s))\n",
    "\n",
    "// offenseCodes.filter('NAME.startsWith(\"ROBBERY\")).show(1000)\n",
    "// offenseCodes.filter(mightContain('CODE)).show(1000)\n",
    "\n",
    "val robberyStatsWithBf = crimeFacts\n",
    "    .filter(mightContain('OFFENSE_CODE))\n",
    "    .join(offenseCodes, 'CODE === 'OFFENSE_CODE)\n",
    "    .filter('NAME.startsWith(\"ROBBERY\"))\n",
    "    .groupBy('NAME)\n",
    "    .count()\n",
    "    .orderBy('count.desc)\n",
    "\n",
    "// robberyStatsWithBf.explain(true)\n",
    "robberyStatsWithBf.show(true)"
   ]
  },
  {
   "cell_type": "code",
   "execution_count": null,
   "metadata": {},
   "outputs": [],
   "source": [
    "robberyStats.explain(true)"
   ]
  },
  {
   "cell_type": "code",
   "execution_count": null,
   "metadata": {},
   "outputs": [],
   "source": [
    "crimeFacts.show"
   ]
  },
  {
   "cell_type": "code",
   "execution_count": null,
   "metadata": {},
   "outputs": [],
   "source": [
    "crimeFacts.select($\"year\", $\"month\").distinct.count"
   ]
  },
  {
   "cell_type": "code",
   "execution_count": null,
   "metadata": {},
   "outputs": [],
   "source": [
    "class NotSerializable(v: Int) {\n",
    "    def getV = v\n",
    "}\n",
    "\n",
    "val ns = new NotSerializable(1)\n",
    "\n",
    "sc.parallelize(Array(1, 2, 3)).map { x =>\n",
    "    // val ns = new NotSerializable(x)\n",
    "    ns.getV\n",
    "}.collect()"
   ]
  },
  {
   "cell_type": "code",
   "execution_count": 3,
   "metadata": {},
   "outputs": [
    {
     "data": {
      "text/html": [
       "<div>\n",
       "  <span style=\"float: left;\">show at cmd2.sc:1</span>\n",
       "</div>\n"
      ]
     },
     "metadata": {},
     "output_type": "display_data"
    },
    {
     "data": {
      "text/html": [
       "<div class=\"progress\">\n",
       "  <div class=\"progress-bar\" role=\"progressbar\" style=\"background-color: blue; width: 100%; word-wrap: normal; white-space: nowrap; text-align: center; color: white\" aria-valuenow=\"100\" aria-valuemin=\"0\" aria-valuemax=\"100\">\n",
       "    1 / 1\n",
       "  </div>\n",
       "  <div class=\"progress-bar\" role=\"progressbar\" style=\"background-color: red; width: 0%\" aria-valuenow=\"0\" aria-valuemin=\"0\" aria-valuemax=\"100\"></div>\n",
       "</div>\n"
      ]
     },
     "metadata": {},
     "output_type": "display_data"
    },
    {
     "name": "stdout",
     "output_type": "stream",
     "text": [
      "+---------------+------------+--------------------+--------------------+--------+--------------+--------+-------------------+----+-----+-----------+----+----------+-----------------+-----------+------------+--------------------+\n",
      "|INCIDENT_NUMBER|OFFENSE_CODE|  OFFENSE_CODE_GROUP| OFFENSE_DESCRIPTION|DISTRICT|REPORTING_AREA|SHOOTING|   OCCURRED_ON_DATE|YEAR|MONTH|DAY_OF_WEEK|HOUR|  UCR_PART|           STREET|        Lat|        Long|            Location|\n",
      "+---------------+------------+--------------------+--------------------+--------+--------------+--------+-------------------+----+-----+-----------+----+----------+-----------------+-----------+------------+--------------------+\n",
      "|     I182070945|         619|             Larceny|  LARCENY ALL OTHERS|     D14|           808|    null|2018-09-02 13:00:00|2018|    9|     Sunday|  13|  Part One|       LINCOLN ST|42.35779134|-71.13937053|(42.35779134, -71...|\n",
      "|     I182070943|        1402|           Vandalism|           VANDALISM|     C11|           347|    null|2018-08-21 00:00:00|2018|    8|    Tuesday|   0|  Part Two|         HECLA ST|42.30682138|-71.06030035|(42.30682138, -71...|\n",
      "|     I182070941|        3410|               Towed| TOWED MOTOR VEHICLE|      D4|           151|    null|2018-09-03 19:27:00|2018|    9|     Monday|  19|Part Three|      CAZENOVE ST|42.34658879|-71.07242943|(42.34658879, -71...|\n",
      "|     I182070940|        3114|Investigate Property|INVESTIGATE PROPERTY|      D4|           272|    null|2018-09-03 21:16:00|2018|    9|     Monday|  21|Part Three|       NEWCOMB ST|42.33418175|-71.07866441|(42.33418175, -71...|\n",
      "|     I182070938|        3114|Investigate Property|INVESTIGATE PROPERTY|      B3|           421|    null|2018-09-03 21:05:00|2018|    9|     Monday|  21|Part Three|         DELHI ST|42.27536542|-71.09036101|(42.27536542, -71...|\n",
      "|     I182070936|        3820|Motor Vehicle Acc...|M/V ACCIDENT INVO...|     C11|           398|    null|2018-09-03 21:09:00|2018|    9|     Monday|  21|Part Three|       TALBOT AVE|42.29019621|-71.07159012|(42.29019621, -71...|\n",
      "|     I182070933|         724|          Auto Theft|          AUTO THEFT|      B2|           330|    null|2018-09-03 21:25:00|2018|    9|     Monday|  21|  Part One|      NORMANDY ST|42.30607218| -71.0827326|(42.30607218, -71...|\n",
      "|     I182070932|        3301|     Verbal Disputes|      VERBAL DISPUTE|      B2|           584|    null|2018-09-03 20:39:37|2018|    9|     Monday|  20|Part Three|          LAWN ST|42.32701648|-71.10555088|(42.32701648, -71...|\n",
      "|     I182070931|         301|             Robbery|    ROBBERY - STREET|      C6|           177|    null|2018-09-03 20:48:00|2018|    9|     Monday|  20|  Part One|MASSACHUSETTS AVE|42.33152148|-71.07085307|(42.33152148, -71...|\n",
      "|     I182070929|        3301|     Verbal Disputes|      VERBAL DISPUTE|     C11|           364|    null|2018-09-03 20:38:00|2018|    9|     Monday|  20|Part Three|        LESLIE ST|42.29514664|-71.05860832|(42.29514664, -71...|\n",
      "|     I182070928|        3301|     Verbal Disputes|      VERBAL DISPUTE|      C6|           913|    null|2018-09-03 19:55:00|2018|    9|     Monday|  19|Part Three|    OCEAN VIEW DR|42.31957856|-71.04032766|(42.31957856, -71...|\n",
      "|     I182070927|        3114|Investigate Property|INVESTIGATE PROPERTY|      C6|           936|    null|2018-09-03 20:19:00|2018|    9|     Monday|  20|Part Three|      DALESSIO CT|42.34011469|-71.05339029|(42.34011469, -71...|\n",
      "|     I182070923|        3108|Fire Related Reports|FIRE REPORT - HOU...|      D4|           139|    null|2018-09-03 19:58:00|2018|    9|     Monday|  19|Part Three|   MARLBOROUGH ST| 42.3503876| -71.0878529|(42.35038760, -71...|\n",
      "|     I182070922|        2647|               Other|THREATS TO DO BOD...|      B3|           429|    null|2018-09-03 20:39:00|2018|    9|     Monday|  20|  Part Two|      WOODROW AVE|42.28647012|-71.08714661|(42.28647012, -71...|\n",
      "|     I182070921|        3201|       Property Lost|     PROPERTY - LOST|      B3|           469|    null|2018-09-02 14:00:00|2018|    9|     Sunday|  14|Part Three|        MULVEY ST|42.27924052|-71.09667382|(42.27924052, -71...|\n",
      "|     I182070920|        3006|  Medical Assistance|SICK/INJURED/MEDI...|    null|              |    null|2018-09-03 19:43:00|2018|    9|     Monday|  19|Part Three|             null|42.35287456| -71.0738297|(42.35287456, -71...|\n",
      "|     I182070919|        3301|     Verbal Disputes|      VERBAL DISPUTE|     C11|           341|    null|2018-09-03 18:52:00|2018|    9|     Monday|  18|Part Three|    STONEHURST ST|42.30526428|-71.06683755|(42.30526428, -71...|\n",
      "|     I182070918|        3305|Assembly or Gathe...| DEMONSTRATIONS/RIOT|      D4|           130|    null|2018-09-03 17:00:00|2018|    9|     Monday|  17|Part Three|   HUNTINGTON AVE|42.34857652|-71.07772012|(42.34857652, -71...|\n",
      "|     I182070917|        2647|               Other|THREATS TO DO BOD...|      B2|           901|    null|2018-09-03 19:52:00|2018|    9|     Monday|  19|  Part Two|      HORADAN WAY|42.33371742|-71.09665806|(42.33371742, -71...|\n",
      "|     I182070915|         614|Larceny From Moto...|LARCENY THEFT FRO...|      B2|           181|    null|2018-09-02 18:00:00|2018|    9|     Sunday|  18|  Part One|       SHIRLEY ST| 42.3256949|-71.06816778|(42.32569490, -71...|\n",
      "+---------------+------------+--------------------+--------------------+--------+--------------+--------+-------------------+----+-----+-----------+----+----------+-----------------+-----------+------------+--------------------+\n",
      "only showing top 20 rows\n",
      "\n"
     ]
    }
   ],
   "source": [
    "crimeFacts.show"
   ]
  },
  {
   "cell_type": "code",
   "execution_count": 6,
   "metadata": {},
   "outputs": [
    {
     "data": {
      "text/html": [
       "<div>\n",
       "  <span style=\"float: left;\">show at cmd5.sc:1</span>\n",
       "</div>\n"
      ]
     },
     "metadata": {},
     "output_type": "display_data"
    },
    {
     "data": {
      "text/html": [
       "<div class=\"progress\">\n",
       "  <div class=\"progress-bar\" role=\"progressbar\" style=\"background-color: blue; width: 100%; word-wrap: normal; white-space: nowrap; text-align: center; color: white\" aria-valuenow=\"100\" aria-valuemin=\"0\" aria-valuemax=\"100\">\n",
       "    12 / 12\n",
       "  </div>\n",
       "  <div class=\"progress-bar\" role=\"progressbar\" style=\"background-color: red; width: 0%\" aria-valuenow=\"0\" aria-valuemin=\"0\" aria-valuemax=\"100\"></div>\n",
       "</div>\n"
      ]
     },
     "metadata": {},
     "output_type": "display_data"
    },
    {
     "data": {
      "text/html": [
       "<div>\n",
       "  <span style=\"float: left;\">show at cmd5.sc:1</span>\n",
       "</div>\n"
      ]
     },
     "metadata": {},
     "output_type": "display_data"
    },
    {
     "data": {
      "text/html": [
       "<div class=\"progress\">\n",
       "  <div class=\"progress-bar\" role=\"progressbar\" style=\"background-color: blue; width: 100%; word-wrap: normal; white-space: nowrap; text-align: center; color: white\" aria-valuenow=\"100\" aria-valuemin=\"0\" aria-valuemax=\"100\">\n",
       "    1 / 1\n",
       "  </div>\n",
       "  <div class=\"progress-bar\" role=\"progressbar\" style=\"background-color: red; width: 0%\" aria-valuenow=\"0\" aria-valuemin=\"0\" aria-valuemax=\"100\"></div>\n",
       "</div>\n"
      ]
     },
     "metadata": {},
     "output_type": "display_data"
    },
    {
     "data": {
      "text/html": [
       "<div>\n",
       "  <span style=\"float: left;\">show at cmd5.sc:1</span>\n",
       "</div>\n"
      ]
     },
     "metadata": {},
     "output_type": "display_data"
    },
    {
     "data": {
      "text/html": [
       "<div class=\"progress\">\n",
       "  <div class=\"progress-bar\" role=\"progressbar\" style=\"background-color: blue; width: 100%; word-wrap: normal; white-space: nowrap; text-align: center; color: white\" aria-valuenow=\"100\" aria-valuemin=\"0\" aria-valuemax=\"100\">\n",
       "    4 / 4\n",
       "  </div>\n",
       "  <div class=\"progress-bar\" role=\"progressbar\" style=\"background-color: red; width: 0%\" aria-valuenow=\"0\" aria-valuemin=\"0\" aria-valuemax=\"100\"></div>\n",
       "</div>\n"
      ]
     },
     "metadata": {},
     "output_type": "display_data"
    },
    {
     "name": "stdout",
     "output_type": "stream",
     "text": [
      "+--------+-----------+\n",
      "|DISTRICT|  medianLat|\n",
      "+--------+-----------+\n",
      "|      C6|42.33248496|\n",
      "|      C6|42.33248496|\n",
      "|      C6|42.33248496|\n",
      "|      C6|42.33248496|\n",
      "|      C6|42.33248496|\n",
      "|      C6|42.33248496|\n",
      "|      C6|42.33248496|\n",
      "|      C6|42.33248496|\n",
      "|      C6|42.33248496|\n",
      "|      C6|42.33248496|\n",
      "|      C6|42.33248496|\n",
      "|      C6|42.33248496|\n",
      "|      C6|42.33248496|\n",
      "|      C6|42.33248496|\n",
      "|      C6|42.33248496|\n",
      "|      C6|42.33248496|\n",
      "|      C6|42.33248496|\n",
      "|      C6|42.33248496|\n",
      "|      C6|42.33248496|\n",
      "|      C6|42.33248496|\n",
      "+--------+-----------+\n",
      "only showing top 20 rows\n",
      "\n"
     ]
    }
   ],
   "source": [
    "crimeFacts.selectExpr(\"DISTRICT\", \"percentile_approx(Lat, 0.5) over (partition by DISTRICT) as medianLat\").show"
   ]
  },
  {
   "cell_type": "code",
   "execution_count": 9,
   "metadata": {},
   "outputs": [
    {
     "data": {
      "text/html": [
       "<div>\n",
       "  <span style=\"float: left;\">show at cmd8.sc:2</span>\n",
       "</div>\n"
      ]
     },
     "metadata": {},
     "output_type": "display_data"
    },
    {
     "data": {
      "text/html": [
       "<div class=\"progress\">\n",
       "  <div class=\"progress-bar\" role=\"progressbar\" style=\"background-color: blue; width: 100%; word-wrap: normal; white-space: nowrap; text-align: center; color: white\" aria-valuenow=\"100\" aria-valuemin=\"0\" aria-valuemax=\"100\">\n",
       "    12 / 12\n",
       "  </div>\n",
       "  <div class=\"progress-bar\" role=\"progressbar\" style=\"background-color: red; width: 0%\" aria-valuenow=\"0\" aria-valuemin=\"0\" aria-valuemax=\"100\"></div>\n",
       "</div>\n"
      ]
     },
     "metadata": {},
     "output_type": "display_data"
    },
    {
     "data": {
      "text/html": [
       "<div>\n",
       "  <span style=\"float: left;\">show at cmd8.sc:2</span>\n",
       "</div>\n"
      ]
     },
     "metadata": {},
     "output_type": "display_data"
    },
    {
     "data": {
      "text/html": [
       "<div class=\"progress\">\n",
       "  <div class=\"progress-bar\" role=\"progressbar\" style=\"background-color: blue; width: 100%; word-wrap: normal; white-space: nowrap; text-align: center; color: white\" aria-valuenow=\"100\" aria-valuemin=\"0\" aria-valuemax=\"100\">\n",
       "    1 / 1\n",
       "  </div>\n",
       "  <div class=\"progress-bar\" role=\"progressbar\" style=\"background-color: red; width: 0%\" aria-valuenow=\"0\" aria-valuemin=\"0\" aria-valuemax=\"100\"></div>\n",
       "</div>\n"
      ]
     },
     "metadata": {},
     "output_type": "display_data"
    },
    {
     "data": {
      "text/html": [
       "<div>\n",
       "  <span style=\"float: left;\">show at cmd8.sc:2</span>\n",
       "</div>\n"
      ]
     },
     "metadata": {},
     "output_type": "display_data"
    },
    {
     "data": {
      "text/html": [
       "<div class=\"progress\">\n",
       "  <div class=\"progress-bar\" role=\"progressbar\" style=\"background-color: blue; width: 100%; word-wrap: normal; white-space: nowrap; text-align: center; color: white\" aria-valuenow=\"100\" aria-valuemin=\"0\" aria-valuemax=\"100\">\n",
       "    4 / 4\n",
       "  </div>\n",
       "  <div class=\"progress-bar\" role=\"progressbar\" style=\"background-color: red; width: 0%\" aria-valuenow=\"0\" aria-valuemin=\"0\" aria-valuemax=\"100\"></div>\n",
       "</div>\n"
      ]
     },
     "metadata": {},
     "output_type": "display_data"
    },
    {
     "data": {
      "text/html": [
       "<div>\n",
       "  <span style=\"float: left;\">show at cmd8.sc:2</span>\n",
       "</div>\n"
      ]
     },
     "metadata": {},
     "output_type": "display_data"
    },
    {
     "data": {
      "text/html": [
       "<div class=\"progress\">\n",
       "  <div class=\"progress-bar\" role=\"progressbar\" style=\"background-color: blue; width: 100%; word-wrap: normal; white-space: nowrap; text-align: center; color: white\" aria-valuenow=\"100\" aria-valuemin=\"0\" aria-valuemax=\"100\">\n",
       "    20 / 20\n",
       "  </div>\n",
       "  <div class=\"progress-bar\" role=\"progressbar\" style=\"background-color: red; width: 0%\" aria-valuenow=\"0\" aria-valuemin=\"0\" aria-valuemax=\"100\"></div>\n",
       "</div>\n"
      ]
     },
     "metadata": {},
     "output_type": "display_data"
    },
    {
     "data": {
      "text/html": [
       "<div>\n",
       "  <span style=\"float: left;\">show at cmd8.sc:2</span>\n",
       "</div>\n"
      ]
     },
     "metadata": {},
     "output_type": "display_data"
    },
    {
     "data": {
      "text/html": [
       "<div class=\"progress\">\n",
       "  <div class=\"progress-bar\" role=\"progressbar\" style=\"background-color: blue; width: 100%; word-wrap: normal; white-space: nowrap; text-align: center; color: white\" aria-valuenow=\"100\" aria-valuemin=\"0\" aria-valuemax=\"100\">\n",
       "    100 / 100\n",
       "  </div>\n",
       "  <div class=\"progress-bar\" role=\"progressbar\" style=\"background-color: red; width: 0%\" aria-valuenow=\"0\" aria-valuemin=\"0\" aria-valuemax=\"100\"></div>\n",
       "</div>\n"
      ]
     },
     "metadata": {},
     "output_type": "display_data"
    },
    {
     "data": {
      "text/html": [
       "<div>\n",
       "  <span style=\"float: left;\">show at cmd8.sc:2</span>\n",
       "</div>\n"
      ]
     },
     "metadata": {},
     "output_type": "display_data"
    },
    {
     "data": {
      "text/html": [
       "<div class=\"progress\">\n",
       "  <div class=\"progress-bar\" role=\"progressbar\" style=\"background-color: blue; width: 100%; word-wrap: normal; white-space: nowrap; text-align: center; color: white\" aria-valuenow=\"100\" aria-valuemin=\"0\" aria-valuemax=\"100\">\n",
       "    75 / 75\n",
       "  </div>\n",
       "  <div class=\"progress-bar\" role=\"progressbar\" style=\"background-color: red; width: 0%\" aria-valuenow=\"0\" aria-valuemin=\"0\" aria-valuemax=\"100\"></div>\n",
       "</div>\n"
      ]
     },
     "metadata": {},
     "output_type": "display_data"
    },
    {
     "name": "stdout",
     "output_type": "stream",
     "text": [
      "+--------+-----------+\n",
      "|DISTRICT|  medianLat|\n",
      "+--------+-----------+\n",
      "|      C6|42.33248496|\n",
      "|    null| 42.2934621|\n",
      "|      B2|42.32148976|\n",
      "|     C11| 42.3005201|\n",
      "|     E13|42.31538436|\n",
      "|      B3|42.28560167|\n",
      "|      E5|42.28365951|\n",
      "|     A15| 42.3776959|\n",
      "|      A7|42.37756074|\n",
      "|     D14|42.35097948|\n",
      "|      D4|42.34428082|\n",
      "|     E18|42.26201849|\n",
      "|      A1|42.35650174|\n",
      "+--------+-----------+\n",
      "\n"
     ]
    }
   ],
   "source": [
    "crimeFacts.createOrReplaceTempView(\"crimeFacts\")\n",
    "spark.sql(\"select DISTRICT, percentile_approx(Lat, 0.5) as medianLat from crimeFacts group by DISTRICT\").show"
   ]
  },
  {
   "cell_type": "code",
   "execution_count": 27,
   "metadata": {},
   "outputs": [
    {
     "data": {
      "text/plain": [
       "\u001b[36mcolList\u001b[39m: \u001b[32mArray\u001b[39m[\u001b[32mString\u001b[39m] = \u001b[33mArray\u001b[39m(\n",
       "  \u001b[32m\"INCIDENT_NUMBER\"\u001b[39m,\n",
       "  \u001b[32m\"OFFENSE_CODE\"\u001b[39m,\n",
       "  \u001b[32m\"OFFENSE_CODE_GROUP\"\u001b[39m,\n",
       "  \u001b[32m\"OFFENSE_DESCRIPTION\"\u001b[39m,\n",
       "  \u001b[32m\"DISTRICT\"\u001b[39m,\n",
       "  \u001b[32m\"REPORTING_AREA\"\u001b[39m,\n",
       "  \u001b[32m\"SHOOTING\"\u001b[39m,\n",
       "  \u001b[32m\"OCCURRED_ON_DATE\"\u001b[39m,\n",
       "  \u001b[32m\"YEAR\"\u001b[39m,\n",
       "  \u001b[32m\"MONTH\"\u001b[39m,\n",
       "  \u001b[32m\"DAY_OF_WEEK\"\u001b[39m,\n",
       "  \u001b[32m\"HOUR\"\u001b[39m,\n",
       "  \u001b[32m\"UCR_PART\"\u001b[39m,\n",
       "  \u001b[32m\"STREET\"\u001b[39m,\n",
       "  \u001b[32m\"Lat\"\u001b[39m,\n",
       "  \u001b[32m\"Long\"\u001b[39m,\n",
       "  \u001b[32m\"Location\"\u001b[39m\n",
       ")\n",
       "\u001b[36mreq\u001b[39m: \u001b[32mString\u001b[39m = \u001b[32m\"\"\"select INCIDENT_NUMBER, OFFENSE_CODE, OFFENSE_CODE_GROUP, OFFENSE_DESCRIPTION, DISTRICT, REPORTING_AREA, SHOOTING, OCCURRED_ON_DATE, YEAR, MONTH, DAY_OF_WEEK, HOUR, UCR_PART, STREET, Lat, Long, Location \n",
       " from target\"\"\"\u001b[39m\n",
       "\u001b[36mres26_2\u001b[39m: \u001b[32mString\u001b[39m = \u001b[32m\"\"\"select INCIDENT_NUMBER, OFFENSE_CODE, OFFENSE_CODE_GROUP, OFFENSE_DESCRIPTION, DISTRICT, REPORTING_AREA, SHOOTING, OCCURRED_ON_DATE, YEAR, MONTH, DAY_OF_WEEK, HOUR, UCR_PART, STREET, Lat, Long, Location \n",
       " from target\"\"\"\u001b[39m"
      ]
     },
     "execution_count": 27,
     "metadata": {},
     "output_type": "execute_result"
    }
   ],
   "source": [
    "val colList = crimeFacts.columns\n",
    "\n",
    "val req = s\"\"\"select ${colList.mkString(\", \")} from target\"\"\"\n",
    "\n",
    "req"
   ]
  },
  {
   "cell_type": "code",
   "execution_count": 27,
   "metadata": {},
   "outputs": [
    {
     "name": "stderr",
     "output_type": "stream",
     "text": [
      "cmd27.sc:3: no `: _*' annotation allowed here\n",
      "(such annotations are only allowed in arguments to *-parameters)\n",
      "val res27_1 = crimeFacts.select(colsForTarget: _*)\n",
      "                                             ^Compilation Failed"
     ]
    },
    {
     "ename": "",
     "evalue": "",
     "output_type": "error",
     "traceback": [
      "Compilation Failed"
     ]
    }
   ],
   "source": [
    "val colsForTarget = List(\"id\", \"new_id\") ++ colList\n",
    "\n",
    "crimeFacts.select(colsForTarget: _*)"
   ]
  },
  {
   "cell_type": "code",
   "execution_count": null,
   "metadata": {},
   "outputs": [],
   "source": []
  }
 ],
 "metadata": {
  "kernelspec": {
   "display_name": "Scala",
   "language": "scala",
   "name": "scala"
  },
  "language_info": {
   "codemirror_mode": "text/x-scala",
   "file_extension": ".scala",
   "mimetype": "text/x-scala",
   "name": "scala",
   "nbconvert_exporter": "script",
   "version": "2.12.8"
  }
 },
 "nbformat": 4,
 "nbformat_minor": 2
}
